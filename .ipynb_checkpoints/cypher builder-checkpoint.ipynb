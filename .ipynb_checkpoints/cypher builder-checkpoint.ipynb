{
 "cells": [
  {
   "cell_type": "code",
   "execution_count": null,
   "metadata": {},
   "outputs": [],
   "source": [
    "#!/usr/bin/python\n",
    "# coding: UTF-8\n",
    "f = open('neo4j_movie_standby.txt')\n",
    "data = f.read()\n",
    "f.close()\n",
    "lines = data.split('\\n')"
   ]
  },
  {
   "cell_type": "code",
   "execution_count": null,
   "metadata": {},
   "outputs": [],
   "source": [
    "import re\n",
    "\n",
    "new_lines = []\n",
    "for line in lines:\n",
    "    line = re.sub('title',  'en_name', line)\n",
    "    line = re.sub('tagline',  'en_description', line)\n",
    "    line = re.sub('released',  'start', line)\n",
    "    line = re.sub('born',  'start', line)\n",
    "    line = re.sub('(\\d{4})',  r' datetime(\"\\1-01-01T00:00:00\"), start_accuracy: \"year\", is_momentary: TRUE', line)\n",
    "    new_lines.append(line)\n",
    "\n",
    "for new_line in new_lines:\n",
    "    print (new_line)"
   ]
  },
  {
   "cell_type": "code",
   "execution_count": null,
   "metadata": {},
   "outputs": [],
   "source": []
  }
 ],
 "metadata": {
  "kernelspec": {
   "display_name": "Python 3",
   "language": "python",
   "name": "python3"
  },
  "language_info": {
   "codemirror_mode": {
    "name": "ipython",
    "version": 3
   },
   "file_extension": ".py",
   "mimetype": "text/x-python",
   "name": "python",
   "nbconvert_exporter": "python",
   "pygments_lexer": "ipython3",
   "version": "3.6.8"
  }
 },
 "nbformat": 4,
 "nbformat_minor": 2
}
